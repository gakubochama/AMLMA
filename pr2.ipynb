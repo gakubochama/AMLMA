{
 "cells": [
  {
   "cell_type": "code",
   "execution_count": 26,
   "metadata": {},
   "outputs": [],
   "source": [
    "# requirement\n",
    "import numpy as np\n",
    "import matplotlib.pyplot as plt\n",
    "import cvxpy as cv\n",
    "import itertools"
   ]
  },
  {
   "cell_type": "code",
   "execution_count": 28,
   "metadata": {},
   "outputs": [],
   "source": [
    "def st_ops(mu, q):\n",
    "  x_proj = np.zeros(mu.shape)\n",
    "  for i in range(len(mu)):\n",
    "    if mu[i] > q:\n",
    "      x_proj[i] = mu[i] - q\n",
    "    else:\n",
    "      if np.abs(mu[i]) < q:\n",
    "        x_proj[i] = 0\n",
    "      else:\n",
    "        x_proj[i] = mu[i] + q; \n",
    "  return x_proj"
   ]
  },
  {
   "cell_type": "code",
   "execution_count": 31,
   "metadata": {},
   "outputs": [
    {
     "ename": "SolverError",
     "evalue": "The solver CVXOPT is not installed.",
     "output_type": "error",
     "traceback": [
      "\u001b[0;31m---------------------------------------------------------------------------\u001b[0m",
      "\u001b[0;31mSolverError\u001b[0m                               Traceback (most recent call last)",
      "\u001b[1;32m/Users/gackt/Library/Mobile Documents/com~apple~CloudDocs/Documents/titech/1年2Q/先端機械学習/中間/pr2.ipynb Cell 3'\u001b[0m in \u001b[0;36m<cell line: 30>\u001b[0;34m()\u001b[0m\n\u001b[1;32m     <a href='vscode-notebook-cell:/Users/gackt/Library/Mobile%20Documents/com~apple~CloudDocs/Documents/titech/1%E5%B9%B42Q/%E5%85%88%E7%AB%AF%E6%A9%9F%E6%A2%B0%E5%AD%A6%E7%BF%92/%E4%B8%AD%E9%96%93/pr2.ipynb#ch0000001?line=27'>28</a>\u001b[0m constraints \u001b[39m=\u001b[39m []\n\u001b[1;32m     <a href='vscode-notebook-cell:/Users/gackt/Library/Mobile%20Documents/com~apple~CloudDocs/Documents/titech/1%E5%B9%B42Q/%E5%85%88%E7%AB%AF%E6%A9%9F%E6%A2%B0%E5%AD%A6%E7%BF%92/%E4%B8%AD%E9%96%93/pr2.ipynb#ch0000001?line=28'>29</a>\u001b[0m prob \u001b[39m=\u001b[39m cv\u001b[39m.\u001b[39mProblem(objective, constraints)\n\u001b[0;32m---> <a href='vscode-notebook-cell:/Users/gackt/Library/Mobile%20Documents/com~apple~CloudDocs/Documents/titech/1%E5%B9%B42Q/%E5%85%88%E7%AB%AF%E6%A9%9F%E6%A2%B0%E5%AD%A6%E7%BF%92/%E4%B8%AD%E9%96%93/pr2.ipynb#ch0000001?line=29'>30</a>\u001b[0m result \u001b[39m=\u001b[39m prob\u001b[39m.\u001b[39;49msolve(solver\u001b[39m=\u001b[39;49mcv\u001b[39m.\u001b[39;49mCVXOPT) \n\u001b[1;32m     <a href='vscode-notebook-cell:/Users/gackt/Library/Mobile%20Documents/com~apple~CloudDocs/Documents/titech/1%E5%B9%B42Q/%E5%85%88%E7%AB%AF%E6%A9%9F%E6%A2%B0%E5%AD%A6%E7%BF%92/%E4%B8%AD%E9%96%93/pr2.ipynb#ch0000001?line=30'>31</a>\u001b[0m w_lasso \u001b[39m=\u001b[39m w_lasso\u001b[39m.\u001b[39mvalue\n\u001b[1;32m     <a href='vscode-notebook-cell:/Users/gackt/Library/Mobile%20Documents/com~apple~CloudDocs/Documents/titech/1%E5%B9%B42Q/%E5%85%88%E7%AB%AF%E6%A9%9F%E6%A2%B0%E5%AD%A6%E7%BF%92/%E4%B8%AD%E9%96%93/pr2.ipynb#ch0000001?line=32'>33</a>\u001b[0m plt\u001b[39m.\u001b[39mcontour(X1, X2, fValue)\n",
      "File \u001b[0;32m/Library/Frameworks/Python.framework/Versions/3.10/lib/python3.10/site-packages/cvxpy/problems/problem.py:481\u001b[0m, in \u001b[0;36mProblem.solve\u001b[0;34m(self, *args, **kwargs)\u001b[0m\n\u001b[1;32m    479\u001b[0m \u001b[39melse\u001b[39;00m:\n\u001b[1;32m    480\u001b[0m     solve_func \u001b[39m=\u001b[39m Problem\u001b[39m.\u001b[39m_solve\n\u001b[0;32m--> 481\u001b[0m \u001b[39mreturn\u001b[39;00m solve_func(\u001b[39mself\u001b[39;49m, \u001b[39m*\u001b[39;49margs, \u001b[39m*\u001b[39;49m\u001b[39m*\u001b[39;49mkwargs)\n",
      "File \u001b[0;32m/Library/Frameworks/Python.framework/Versions/3.10/lib/python3.10/site-packages/cvxpy/problems/problem.py:1007\u001b[0m, in \u001b[0;36mProblem._solve\u001b[0;34m(self, solver, warm_start, verbose, gp, qcp, requires_grad, enforce_dpp, ignore_dpp, **kwargs)\u001b[0m\n\u001b[1;32m   1004\u001b[0m         \u001b[39mself\u001b[39m\u001b[39m.\u001b[39munpack(chain\u001b[39m.\u001b[39mretrieve(soln))\n\u001b[1;32m   1005\u001b[0m         \u001b[39mreturn\u001b[39;00m \u001b[39mself\u001b[39m\u001b[39m.\u001b[39mvalue\n\u001b[0;32m-> 1007\u001b[0m data, solving_chain, inverse_data \u001b[39m=\u001b[39m \u001b[39mself\u001b[39;49m\u001b[39m.\u001b[39;49mget_problem_data(\n\u001b[1;32m   1008\u001b[0m     solver, gp, enforce_dpp, ignore_dpp, verbose)\n\u001b[1;32m   1010\u001b[0m \u001b[39mif\u001b[39;00m verbose:\n\u001b[1;32m   1011\u001b[0m     \u001b[39mprint\u001b[39m(_NUM_SOLVER_STR)\n",
      "File \u001b[0;32m/Library/Frameworks/Python.framework/Versions/3.10/lib/python3.10/site-packages/cvxpy/problems/problem.py:607\u001b[0m, in \u001b[0;36mProblem.get_problem_data\u001b[0;34m(self, solver, gp, enforce_dpp, ignore_dpp, verbose)\u001b[0m\n\u001b[1;32m    605\u001b[0m \u001b[39mif\u001b[39;00m key \u001b[39m!=\u001b[39m \u001b[39mself\u001b[39m\u001b[39m.\u001b[39m_cache\u001b[39m.\u001b[39mkey:\n\u001b[1;32m    606\u001b[0m     \u001b[39mself\u001b[39m\u001b[39m.\u001b[39m_cache\u001b[39m.\u001b[39minvalidate()\n\u001b[0;32m--> 607\u001b[0m     solving_chain \u001b[39m=\u001b[39m \u001b[39mself\u001b[39;49m\u001b[39m.\u001b[39;49m_construct_chain(\n\u001b[1;32m    608\u001b[0m         solver\u001b[39m=\u001b[39;49msolver, gp\u001b[39m=\u001b[39;49mgp,\n\u001b[1;32m    609\u001b[0m         enforce_dpp\u001b[39m=\u001b[39;49menforce_dpp,\n\u001b[1;32m    610\u001b[0m         ignore_dpp\u001b[39m=\u001b[39;49mignore_dpp)\n\u001b[1;32m    611\u001b[0m     \u001b[39mself\u001b[39m\u001b[39m.\u001b[39m_cache\u001b[39m.\u001b[39mkey \u001b[39m=\u001b[39m key\n\u001b[1;32m    612\u001b[0m     \u001b[39mself\u001b[39m\u001b[39m.\u001b[39m_cache\u001b[39m.\u001b[39msolving_chain \u001b[39m=\u001b[39m solving_chain\n",
      "File \u001b[0;32m/Library/Frameworks/Python.framework/Versions/3.10/lib/python3.10/site-packages/cvxpy/problems/problem.py:843\u001b[0m, in \u001b[0;36mProblem._construct_chain\u001b[0;34m(self, solver, gp, enforce_dpp, ignore_dpp)\u001b[0m\n\u001b[1;32m    813\u001b[0m \u001b[39mdef\u001b[39;00m \u001b[39m_construct_chain\u001b[39m(\n\u001b[1;32m    814\u001b[0m     \u001b[39mself\u001b[39m, solver: Optional[\u001b[39mstr\u001b[39m] \u001b[39m=\u001b[39m \u001b[39mNone\u001b[39;00m, gp: \u001b[39mbool\u001b[39m \u001b[39m=\u001b[39m \u001b[39mFalse\u001b[39;00m,\n\u001b[1;32m    815\u001b[0m     enforce_dpp: \u001b[39mbool\u001b[39m \u001b[39m=\u001b[39m \u001b[39mFalse\u001b[39;00m, ignore_dpp: \u001b[39mbool\u001b[39m \u001b[39m=\u001b[39m \u001b[39mFalse\u001b[39;00m\n\u001b[1;32m    816\u001b[0m ) \u001b[39m-\u001b[39m\u001b[39m>\u001b[39m SolvingChain:\n\u001b[1;32m    817\u001b[0m     \u001b[39m\"\"\"\u001b[39;00m\n\u001b[1;32m    818\u001b[0m \u001b[39m    Construct the chains required to reformulate and solve the problem.\u001b[39;00m\n\u001b[1;32m    819\u001b[0m \n\u001b[0;32m   (...)\u001b[0m\n\u001b[1;32m    841\u001b[0m \u001b[39m    A solving chain\u001b[39;00m\n\u001b[1;32m    842\u001b[0m \u001b[39m    \"\"\"\u001b[39;00m\n\u001b[0;32m--> 843\u001b[0m     candidate_solvers \u001b[39m=\u001b[39m \u001b[39mself\u001b[39;49m\u001b[39m.\u001b[39;49m_find_candidate_solvers(solver\u001b[39m=\u001b[39;49msolver, gp\u001b[39m=\u001b[39;49mgp)\n\u001b[1;32m    844\u001b[0m     \u001b[39mself\u001b[39m\u001b[39m.\u001b[39m_sort_candidate_solvers(candidate_solvers)\n\u001b[1;32m    845\u001b[0m     \u001b[39mreturn\u001b[39;00m construct_solving_chain(\u001b[39mself\u001b[39m, candidate_solvers, gp\u001b[39m=\u001b[39mgp,\n\u001b[1;32m    846\u001b[0m                                    enforce_dpp\u001b[39m=\u001b[39menforce_dpp,\n\u001b[1;32m    847\u001b[0m                                    ignore_dpp\u001b[39m=\u001b[39mignore_dpp)\n",
      "File \u001b[0;32m/Library/Frameworks/Python.framework/Versions/3.10/lib/python3.10/site-packages/cvxpy/problems/problem.py:718\u001b[0m, in \u001b[0;36mProblem._find_candidate_solvers\u001b[0;34m(self, solver, gp)\u001b[0m\n\u001b[1;32m    716\u001b[0m \u001b[39mif\u001b[39;00m solver \u001b[39mis\u001b[39;00m \u001b[39mnot\u001b[39;00m \u001b[39mNone\u001b[39;00m:\n\u001b[1;32m    717\u001b[0m     \u001b[39mif\u001b[39;00m solver \u001b[39mnot\u001b[39;00m \u001b[39min\u001b[39;00m slv_def\u001b[39m.\u001b[39mINSTALLED_SOLVERS:\n\u001b[0;32m--> 718\u001b[0m         \u001b[39mraise\u001b[39;00m error\u001b[39m.\u001b[39mSolverError(\u001b[39m\"\u001b[39m\u001b[39mThe solver \u001b[39m\u001b[39m%s\u001b[39;00m\u001b[39m is not installed.\u001b[39m\u001b[39m\"\u001b[39m \u001b[39m%\u001b[39m solver)\n\u001b[1;32m    719\u001b[0m     \u001b[39mif\u001b[39;00m solver \u001b[39min\u001b[39;00m slv_def\u001b[39m.\u001b[39mCONIC_SOLVERS:\n\u001b[1;32m    720\u001b[0m         candidates[\u001b[39m'\u001b[39m\u001b[39mconic_solvers\u001b[39m\u001b[39m'\u001b[39m] \u001b[39m+\u001b[39m\u001b[39m=\u001b[39m [solver]\n",
      "\u001b[0;31mSolverError\u001b[0m: The solver CVXOPT is not installed."
     ]
    }
   ],
   "source": [
    "# we need to control this parameter to generate multiple figures\n",
    "#lam = 2;\n",
    "#lam = 4;\n",
    "lam = 6;\n",
    "#lam = 3.89; \n",
    "\n",
    "x_1 = np.arange(-1.5, 3, 0.01)\n",
    "x_2 = np.arange(-1.5, 3, 0.02)\n",
    "\n",
    "X1, X2 = np.mgrid[-1.5:3:0.01, -1.5:3:0.02]\n",
    "fValue = np.zeros((len(x_1), len(x_2)))\n",
    "\n",
    "A = np.array([[  3, 0.5],\n",
    "              [0.5,   1]])\n",
    "mu = np.array([[1],\n",
    "               [2]])\n",
    "\n",
    "for i in range(len(x_1)):\n",
    "  for j in range(len(x_2)):\n",
    "        inr = np.vstack([x_1[i], x_2[j]])\n",
    "        fValue[i, j] = np.dot(np.dot((inr-mu).T, A), (inr- mu)) + lam * (np.abs(x_1[i]) + np.abs(x_2[j]))\n",
    "\n",
    "# cvx\n",
    "w_lasso = cv.Variable((2,1))\n",
    "obj_fn = cv.quad_form(w_lasso - mu, A) +  lam * cv.norm(w_lasso, 1)\n",
    "objective = cv.Minimize(obj_fn)\n",
    "constraints = []\n",
    "prob = cv.Problem(objective, constraints)\n",
    "result = prob.solve(solver=cv.CVXOPT) \n",
    "w_lasso = w_lasso.value\n",
    "\n",
    "plt.contour(X1, X2, fValue)\n",
    "\n",
    "x_init = np.array([[ 3],\n",
    "                   [-1]])\n",
    "L = np.max(np.linalg.eig(2 * A)[0]) #1.01 * np.max(np.linalg.eig(2 * A)[0])\n",
    "\n",
    "x_history = []\n",
    "xt = x_init\n",
    "for t in range(1000):\n",
    "  x_history.append(xt.T)\n",
    "  grad = 2 * np.dot(A, xt-mu)\n",
    "  xth = xt - 1/L * grad\n",
    "  xt = st_ops(xth, lam * 1 / L)\n",
    "\n",
    "x_history = np.vstack(x_history)\n",
    "  \n",
    "print(x_history[999,:])\n",
    "\n",
    "plt.plot(x_history[:,0], x_history[:,1], 'ro-', markersize=3, linewidth=0.5)\n",
    "plt.plot(w_lasso[0], w_lasso[1], 'ko')\n",
    "\n",
    "plt.xlim(-1.5, 3)\n",
    "plt.ylim(-1.5, 3)"
   ]
  },
  {
   "cell_type": "code",
   "execution_count": null,
   "metadata": {},
   "outputs": [],
   "source": [
    "# ww(t)-ww^\n",
    "show_iter = 1000\n",
    "\n",
    "plt.plot(np.abs(x_history[:show_iter,0] - min(x_history[:,0])), 'bo-', linewidth=0.5, markersize=1, label='proximal')\n",
    "plt.legend()\n",
    "plt.yscale('log')\n",
    "plt.xlabel('iteration')\n",
    "plt.ylabel('|wt-w^|')"
   ]
  }
 ],
 "metadata": {
  "kernelspec": {
   "display_name": "Python 3.10.0 64-bit",
   "language": "python",
   "name": "python3"
  },
  "language_info": {
   "codemirror_mode": {
    "name": "ipython",
    "version": 3
   },
   "file_extension": ".py",
   "mimetype": "text/x-python",
   "name": "python",
   "nbconvert_exporter": "python",
   "pygments_lexer": "ipython3",
   "version": "3.10.0"
  },
  "orig_nbformat": 4,
  "vscode": {
   "interpreter": {
    "hash": "aee8b7b246df8f9039afb4144a1f6fd8d2ca17a180786b69acc140d282b71a49"
   }
  }
 },
 "nbformat": 4,
 "nbformat_minor": 2
}
